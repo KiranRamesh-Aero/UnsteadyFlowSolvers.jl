{
 "cells": [
  {
   "cell_type": "code",
   "execution_count": 1,
   "metadata": {},
   "outputs": [
    {
     "name": "stderr",
     "output_type": "stream",
     "text": [
      "WARNING: Method definition pcws_1(Any, Any, Any) in module UNSflow at /home/maciej/kramesh/UNSflow/src/calculations.jl:3172 overwritten at /home/maciej/kramesh/UNSflow/src/calculations.jl:3175.\n",
      "WARNING: Method definition pcws_2(Any, Any, Any) in module UNSflow at /home/maciej/kramesh/UNSflow/src/calculations.jl:3173 overwritten at /home/maciej/kramesh/UNSflow/src/calculations.jl:3176.\n"
     ]
    }
   ],
   "source": [
    "#Include the UNSflow libraries\n",
    "#Pkg.clone(\"git://github.com/KiranUofG/UNSflow\")\n",
    "include(\"../src/UNSflow.jl\")\n",
    "using UNSflow"
   ]
  },
  {
   "cell_type": "code",
   "execution_count": 2,
   "metadata": {},
   "outputs": [
    {
     "data": {
      "text/plain": [
       "1×4 Array{Float64,2}:\n",
       " -0.0704412  -0.011237  0.0739017  1.88094"
      ]
     },
     "execution_count": 2,
     "metadata": {},
     "output_type": "execute_result"
    }
   ],
   "source": [
    "# Insert stating constants\n",
    "\n",
    "    #Static constants from case 6 (notebook \"KLB - static SD7003 test cases\") are used\n",
    "    alpha1, s1, s2, model = 17.13, 3.72, 1.2, \"Sheng\"\n",
    "    param = [-0.0704412  -0.011237  0.0739017  1.88094]\n",
    "        # 1: k0, 2: k1, 3: k2, 4: m\n",
    "    #Parameters from [2] for NACA 0015: alpha1 = 15.25, s1 = 3.0, s2 = 2.3, k0 = 0, k1 = -0.135, k2 = 0.04, m = 2 \n",
    "    #[2] Z. Liu, J. C. S. Lai, J. Young, and F.-B. Tian, “Discrete Vortex Method with Flow Separation Corrections for Flapping-Foil Power Generators,” AIAA Journal, vol. 55, no. 2, pp. 410–418, Feb. 2017."
   ]
  },
  {
   "cell_type": "code",
   "execution_count": 3,
   "metadata": {
    "collapsed": true
   },
   "outputs": [],
   "source": [
    "alphadef = ConstDef(0.*pi/180)\n",
    "hdef = ConstDef(0.)\n",
    "udef = ConstDef(1.) #Freestream velocity is a constant. Set as constant = 1\n",
    "\n",
    "#The full kinematics are collected as:\n",
    "full_kinem = KinemDef(alphadef, hdef, udef)\n",
    "\n",
    "pvt = 0.25 #Leading edge\n",
    "lespcrit = [5;] #Note that the value is entered as an array. \n",
    "time_total = 3.\n",
    "#nsteps = Int(round(time_total/0.015))\n",
    "nsteps = 2500\n",
    "# The argument \"FlatPlate\" provides zero camber. To use an airfoil, specify the coordinate file which should be\n",
    "#in the same folder. For eg. \"sd7003.dat\". \n",
    "#The XFOIL convention must be used for the coordinate: TE->Upper surface->LE->Lower surface->TE\n",
    "surf = TwoDSurf(\"n0012.dat\", pvt, full_kinem,lespcrit)\n",
    "curfield = TwoDFlowField()\n",
    "del = DelVortDef(1, 500, 10)\n",
    "\n",
    "#Now the code is run as :\n",
    "#The variables mat, surf and curfield are returned\n",
    "        \n",
    "@time mat2d, surf, curfield = ldvm_spv(surf, curfield,param[1,:], nsteps; delvort = del, alpha1 = alpha1, S1 = s1, S2 = s2, model=\"Sheng\", aoa = 2, modelF = \"dymore\", forcefsep = false, fsep_forced = 0.001);\n",
    "view_vorts(surf,curfield)\n",
    "axis(\"equal\")\n",
    "figure()\n",
    "plot(mat2d[:,9],label=\"f0sep\")\n",
    "plot(mat2d[:,10],label=\"fsep\")\n",
    "xlabel(\"Timestep no.\")\n",
    "ylabel(\"Separation point position\")\n",
    "legend()\n",
    "figure()\n",
    "plot(mat2d[:,14],label=\"q1t\")\n",
    "plot(mat2d[:,15],label=\"q1c\")\n",
    "xlabel(\"Timestep no.\")\n",
    "ylabel(\"Velocity\")\n",
    "legend()\n",
    "plot(mat2d[:,6])\n",
    "ylabel(\"Lift coefficient CL\")\n",
    "xlabel(\"Timestep No.\")"
   ]
  }
 ],
 "metadata": {
  "kernelspec": {
   "display_name": "Julia 0.5.2",
   "language": "julia",
   "name": "julia-0.5"
  },
  "language_info": {
   "file_extension": ".jl",
   "mimetype": "application/julia",
   "name": "julia",
   "version": "0.5.2"
  }
 },
 "nbformat": 4,
 "nbformat_minor": 2
}
