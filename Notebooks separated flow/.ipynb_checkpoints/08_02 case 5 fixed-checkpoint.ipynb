{
 "cells": [
  {
   "cell_type": "code",
   "execution_count": 2,
   "metadata": {},
   "outputs": [
    {
     "name": "stderr",
     "output_type": "stream",
     "text": [
      "WARNING: Method definition pcws_1(Any, Any, "
     ]
    }
   ],
   "source": [
    "#Include the UNSflow libraries\n",
    "#Pkg.clone(\"git://github.com/KiranUofG/UNSflow\")\n",
    "include(\"../src/UNSflow.jl\")\n",
    "using UNSflow"
   ]
  },
  {
   "cell_type": "markdown",
   "metadata": {},
   "source": [
    "Case 6 from the new paper\n",
    "#### Table 1\n",
    "|--|--|\n",
    "|:----:|:-------:|\n",
    "|Airfoil|SD-7003|\n",
    "|Motion|Eldredge ramp|\n",
    "|Smoothing parameter a|0.8|\n",
    "|Amplitude|30 deg|\n",
    "|Pivot point| 0.25|\n",
    "|Nondim. pitch rate k|0.05|\n",
    "|Reynolds number| 20k|\n",
    "|LESP| 0.25|"
   ]
  },
  {
   "cell_type": "code",
   "execution_count": 52,
   "metadata": {},
   "outputs": [
    {
     "data": {
      "text/plain": [
       "5-element Array{Float64,1}:\n",
       " 0.54\n",
       " 0.63\n",
       " 0.53\n",
       " 0.67\n",
       " 0.75"
      ]
     },
     "execution_count": 52,
     "metadata": {},
     "output_type": "execute_result"
    }
   ],
   "source": [
    "# Insert stating constants\n",
    "\n",
    "    #Static constants from case 6 (notebook \"KLB - static SD7003 test cases\") are used\n",
    "    alpha1, s1, s2, model = 6., 5.,  5., \"Sheng\"\n",
    "    param = [-0.0704412  -0.011237  0.0739017  1.88094]\n",
    "\n",
    "    alphadef = EldUptstartDef(30.*pi/180.,0.05, 0.8, 5.)\n",
    "    hdef = ConstDef(0.)\n",
    "    udef = ConstDef(1.) #Freestream velocity is a constant. Set as constant = 1\n",
    "\n",
    "    #The full kinematics are collected as:\n",
    "    full_kinem = KinemDef(alphadef, hdef, udef)\n",
    "\n",
    "    pvt = 0.25 #QC\n",
    "    lespcrit = [0.17;] #Note that the value is entered as an array. \n",
    "    dtstar = find_tstep(alphadef)\n",
    "    time_total =16.319+4.\n",
    "    nsteps = Int(round(time_total/dtstar))\n",
    "\n",
    "    #insert data from experiment\n",
    "    t = [2.37, 2.11, 2.52, 1.91, 1.30]\n",
    "    f = [0.54, 0.63, 0.53, 0.67, 0.75]"
   ]
  },
  {
   "cell_type": "code",
   "execution_count": null,
   "metadata": {},
   "outputs": [],
   "source": [
    "# The argument \"FlatPlate\" provides zero camber. To use an airfoil, specify the coordinate file which should be\n",
    "#in the same folder. For eg. \"sd7003.dat\". \n",
    "#The XFOIL convention must be used for the coordinate: TE->Upper surface->LE->Lower surface->TE\n",
    "surf = TwoDSurf(\"sd7003_fine.dat\", pvt, full_kinem,lespcrit)\n",
    "curfield = TwoDFlowField()\n",
    "del = DelVortDef(1, 500, 10)\n",
    "\n",
    "#Now the code is run as :\n",
    "#The variables mat, surf and curfield are returned\n",
    "        \n",
    "@time mat2d, surf, curfield = ldvm_klb_tr(surf, curfield,param[1,:], nsteps, dtstar; delvort = del, alpha1 = alpha1, S1 = s1, S2 = s2, model=\"Sheng\", aoa = 2, modelF = \"dymore\");\n"
   ]
  },
  {
   "cell_type": "code",
   "execution_count": null,
   "metadata": {},
   "outputs": [],
   "source": [
    "# The argument \"FlatPlate\" provides zero camber. To use an airfoil, specify the coordinate file which should be\n",
    "#in the same folder. For eg. \"sd7003.dat\". \n",
    "#The XFOIL convention must be used for the coordinate: TE->Upper surface->LE->Lower surface->TE\n",
    "surf = TwoDSurf(\"sd7003_fine.dat\", pvt, full_kinem,lespcrit)\n",
    "curfield = TwoDFlowField()\n",
    "del = DelVortDef(1, 500, 10)\n",
    "\n",
    "#Now the code is run as :\n",
    "#The variables mat, surf and curfield are returned\n",
    "        \n",
    "@time matldvm, surf, curfield = ldvm(surf, curfield, nsteps, dtstar; delvort = del);"
   ]
  },
  {
   "cell_type": "code",
   "execution_count": null,
   "metadata": {},
   "outputs": [],
   "source": [
    "plot(t+5,f, label=\"Experimental data\")\n",
    "#plot(mat2d[:,1],mat2d[:,9],label=\"Static f\")\n",
    "plot(mat2d[:,1],mat2d[:,10],label=\"Dynamic f\")\n",
    "\n",
    "xlabel(\"Nondimensional time t*\")\n",
    "ylabel(\"Separation point x/c\")\n",
    "legend()"
   ]
  },
  {
   "cell_type": "code",
   "execution_count": null,
   "metadata": {
    "collapsed": true
   },
   "outputs": [],
   "source": [
    "data = readdlm(\"comp_sa_lesp6_m.dat\");"
   ]
  },
  {
   "cell_type": "code",
   "execution_count": null,
   "metadata": {},
   "outputs": [],
   "source": [
    "plot(mat2d[:,1],mat2d[:,2]*180/pi,label=\"LDVM with TEFSC\")\n",
    "plot(data[:,1]+4,data[:,2], label= \"CFD\")\n",
    "xlabel(\"Nondimensional time t*\")\n",
    "ylabel(\"Angle of attack in deg\")\n",
    "legend()"
   ]
  },
  {
   "cell_type": "code",
   "execution_count": null,
   "metadata": {},
   "outputs": [],
   "source": [
    "plot(matldvm[:,1],matldvm[:,6],label=\"LDVM\")\n",
    "plot(mat2d[:,1],mat2d[:,6],label=\"LDVM with TEFSC\")\n",
    "plot(data[:,1]+4,data[:,5], label=\"CFD\")\n",
    "xlabel(\"Nondimensional time t*\")\n",
    "ylabel(\"Lift coefficient CL\")\n",
    "legend()"
   ]
  },
  {
   "cell_type": "code",
   "execution_count": null,
   "metadata": {},
   "outputs": [],
   "source": [
    "plot(matldvm[:,1],matldvm[:,7],label=\"LDVM\")\n",
    "plot(mat2d[:,1],mat2d[:,7],label=\"LDVM with TEFSC\")\n",
    "plot(data[:,1]+4,data[:,6], label=\"CFD\")\n",
    "xlabel(\"Nondimensional time t*\")\n",
    "ylabel(\"Drag coefficient CD\")\n",
    "legend()"
   ]
  },
  {
   "cell_type": "code",
   "execution_count": null,
   "metadata": {},
   "outputs": [],
   "source": [
    "plot(matldvm[:,1],matldvm[:,8],label=\"LDVM\")\n",
    "plot(mat2d[:,1],mat2d[:,8],label=\"LDVM with TEFSC\")\n",
    "plot(data[:,1]+4,-data[:,7], label=\"CFD\")\n",
    "xlabel(\"Nondimensional time t*\")\n",
    "ylabel(\"Moment coefficient CM\")\n",
    "legend()"
   ]
  },
  {
   "cell_type": "code",
   "execution_count": null,
   "metadata": {
    "collapsed": true
   },
   "outputs": [],
   "source": []
  }
 ],
 "metadata": {
  "kernelspec": {
   "display_name": "Julia 0.5.2",
   "language": "julia",
   "name": "julia-0.5"
  },
  "language_info": {
   "file_extension": ".jl",
   "mimetype": "application/julia",
   "name": "julia",
   "version": "0.5.2"
  }
 },
 "nbformat": 4,
 "nbformat_minor": 2
}
