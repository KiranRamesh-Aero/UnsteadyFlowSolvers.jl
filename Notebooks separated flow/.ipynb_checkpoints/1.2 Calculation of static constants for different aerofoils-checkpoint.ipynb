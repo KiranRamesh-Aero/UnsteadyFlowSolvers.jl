{
 "cells": [
  {
   "cell_type": "code",
   "execution_count": null,
   "metadata": {},
   "outputs": [],
   "source": [
    "#Include the UNSflow libraries\n",
    "#Pkg.clone(\"git://github.com/KiranUofG/UNSflow\")\n",
    "include(\"../src/UNSflow.jl\")\n",
    "using UNSflow"
   ]
  },
  {
   "cell_type": "markdown",
   "metadata": {},
   "source": [
    "#### This notebook shows how to obtain static constants $\\alpha_1$, S1, S2 needed to calculate forces, basing on data from Xfoil\n",
    "\n",
    "Input: CL($\\alpha$), CD($\\alpha$) characteristics from Xfoil\n",
    "\n",
    "Output: Static constants $\\alpha_1$, S1, S2; prediction of separation point position f_model\n",
    "\n",
    "There are various methods to obtain aforementioned static constants. More information acan be found in publications:\n",
    "1. W. Sheng, R. A. M. Galbraith, and F. N. Coton, “A Modified Dynamic Stall Model for Low Mach Numbers,” Journal of Solar Energy Engineering, vol. 130, no. 3, p. 031013, 2008.\n",
    "2. E. Dyachuk, A. Goude, and H. Bernhoff, “Dynamic Stall Modeling for the Conditions of Vertical Axis Wind Turbines,” AIAA Journal, vol. 52, no. 1, pp. 72–81, 2014.\n",
    "3. O. A. Bauchau, “DYMORE user’s manual,” Georgia Institute of Technology, Atlanta, 2007."
   ]
  },
  {
   "cell_type": "code",
   "execution_count": null,
   "metadata": {},
   "outputs": [],
   "source": [
    "#Read CN(alpha) data from file prepared in xfoil\n",
    "xfoil = Xfoil(\"sd7003_data.txt\")\n",
    "\n",
    "#Calculate f basing on CN(alpha)\n",
    "f = fFromCN(xfoil.alpha, xfoil.CN)\n",
    "\n",
    "#Obtain static coefficients\n",
    "#Two models are available, Sheng and Original\n",
    "alpha1Sh, s1Sh, s2Sh, f_modelSh = findStaticCoeff(xfoil.alpha, f, \"Sheng\") \n",
    "alpha1Or, s1Or, s2Or, f_modelOr = findStaticCoeff(xfoil.alpha, f, \"Original\");\n"
   ]
  },
  {
   "cell_type": "code",
   "execution_count": null,
   "metadata": {},
   "outputs": [],
   "source": [
    "plot(xfoil.alpha, f, label=\"Xfoil\")\n",
    "plot(xfoil.alpha, f_modelSh, label=\"Sheng model\")\n",
    "plot(xfoil.alpha, f_modelOr, label=\"Original model\")\n",
    "legend()\n",
    "xlabel(\"Angle of attack in deg\")\n",
    "ylabel(\"Separation point position f as x/c\")\n",
    "annot = string(\"Original model\\n\", \"\\nalpha1 = \", string(alpha1Or)[1:4], \" deg\\ns1 = \", string(s1Or)[1:4], \" deg\\ns2 = \", string(s2Or)[1:4], \" deg\\n\\n\", \"Sheng model\\n\", \"\\nalpha1 = \", string(alpha1Sh)[1:4], \" deg\\ns1 = \", string(s1Sh)[1:4], \" deg\\ns2 = \", string(s2Sh)[1:4], \" deg\")\n",
    "            annotate(annot,\n",
    "            xy=[1;0],\n",
    "            xycoords=\"axes fraction\",\n",
    "            xytext=[-200,10],\n",
    "            textcoords=\"offset points\",\n",
    "            fontsize=13.0,\n",
    "            ha=\"right\",\n",
    "            va=\"bottom\")"
   ]
  },
  {
   "cell_type": "markdown",
   "metadata": {},
   "source": [
    "### It should be noted that alpha1 can be approximated as the stall angle. Procedures implemented in functions fFromCN and findStaticCoeff are now explained step by step."
   ]
  },
  {
   "cell_type": "code",
   "execution_count": null,
   "metadata": {},
   "outputs": [],
   "source": [
    "#Read data exported from xfoil. For instructions how to export data from xfoil, see report.\n",
    "xfoil_file = \"sd7003_data.txt\"\n",
    "data = readdlm(xfoil_file; skipstart = 12) \n",
    "alpha = data[:,1]\n",
    "CL = data[:,2]\n",
    "CD = data[:,3]\n",
    "CM = data[:,5]\n",
    "\n",
    "#Calculate normal force coefficient CL basing on CN and CD\n",
    "CN = zeros(length(alpha))\n",
    "\n",
    "    for idx = 1 : length(alpha)\n",
    "        CN[idx] = CL[idx]*cos(deg2rad(alpha[idx]))+CD[idx]*sin(deg2rad(alpha[idx]))\n",
    "    end\n",
    "\n",
    "##Extract airfoil's name\n",
    "nline = open(readlines, \"sd7003_data.txt\")[4]\n",
    "id = search(nline,\":\")[1]\n",
    "\n",
    "#STEP 1: FIND ALPHA_0 FROM LINEAR PART OF CN\n",
    "\n",
    "    lin = 7 #angle in degrees at which CN is still linear, modify if neccessary\n",
    "\n",
    "    #trim domain to linear part\n",
    "    idx_linear = 1\n",
    "    while(alpha[idx_linear]<7)\n",
    "        idx_linear+=1\n",
    "    end\n",
    "    \n",
    "    #find b,a for y = bx + a\n",
    "    a,b = linreg(alpha[1:idx_linear], CN[1:idx_linear])\n",
    "    alpha0 = -a/b\n",
    "\n",
    "    #confirm that only linear part of CN was used\n",
    "    plot(alpha[1:idx_linear],b*alpha[1:idx_linear]+a, label =\"Linear regression\")\n",
    "    plot(alpha[1:idx_linear],CN[1:idx_linear], label= \"CN(alpha)\")\n",
    "    legend()\n",
    "    xlabel(\"angle of attack in degrees\")\n",
    "    ylabel(\"Normal force coefficient CN\")\n",
    "            annotate(\"alpha0 = \"string(alpha0)[1:5]\" deg\",\n",
    "            xy=[1;0],\n",
    "            xycoords=\"axes fraction\",\n",
    "            xytext=[-10,10],\n",
    "            textcoords=\"offset points\",\n",
    "            fontsize=15.0,\n",
    "            ha=\"right\",\n",
    "            va=\"bottom\")"
   ]
  },
  {
   "cell_type": "markdown",
   "metadata": {},
   "source": [
    "#### Alpha0 is the angle at which CN = 0"
   ]
  },
  {
   "attachments": {
    "image.png": {
     "image/png": "[encoded data removed]"
    }
   },
   "cell_type": "markdown",
   "metadata": {},
   "source": [
    "#### In the next step, separation point f will be calculated from static data using the formula:\n",
    "![image.png](attachment:image.png)"
   ]
  },
  {
   "cell_type": "code",
   "execution_count": null,
   "metadata": {},
   "outputs": [],
   "source": [
    "#Calculate max. slope from static data, amax, to guarantee that f will not exceed 1\n",
    "    amax = 0\n",
    "    for idx = 1 : idx_linear\n",
    "        if(CN[idx]/(alpha[idx]-alpha0) > amax)\n",
    "        amax = CN[idx]/(alpha[idx]-alpha0)\n",
    "        end\n",
    "    end\n",
    "\n",
    "#STEP 2: DETERMINE F FROM STATIC DATA\n",
    "f = zeros(length(alpha))\n",
    "\n",
    "for idx = 1 : length(alpha)\n",
    "    f[idx] = (2*sqrt(CN[idx]/(amax*(alpha[idx])))-1)^2\n",
    "end \n",
    "\n",
    "plot(alpha,f, label=\"f from xfoil\")\n",
    "xlabel(\"angle of attack in deg\")\n",
    "ylabel(\"separation point f as x/c\")\n",
    "legend()\n",
    "#title(foil_no)"
   ]
  },
  {
   "attachments": {
    "image.png": {
     "image/png": "[encoded data removed]"
    }
   },
   "cell_type": "markdown",
   "metadata": {},
   "source": [
    "#### Now, a model is required to obtain continuous f(alpha) function from discrete points.\n",
    "#### For Sheng model, piecewise function is defined as:\n",
    "![image.png](attachment:image.png)\n",
    "#### where  $\\alpha_1$ is the angle of attack at which f = 0.6. Optimization is performed to obtain static constants S1, S2."
   ]
  },
  {
   "cell_type": "code",
   "execution_count": null,
   "metadata": {},
   "outputs": [],
   "source": [
    "fsep =  0.6\n",
    "\n",
    "temp = abs(f.-fsep)\n",
    "idxf = findfirst(temp,minimum(temp))\n",
    "\n",
    "alpha1 = alpha[idxf]"
   ]
  },
  {
   "cell_type": "code",
   "execution_count": null,
   "metadata": {},
   "outputs": [],
   "source": [
    "#STEP 3: OPTIMIZE \n",
    "\n",
    "pcws1(x, s1) = 1.0.-0.4.*exp((abs(x).-alpha1)./s1)\n",
    "pcws2(x, s2) = 0.02.+0.58.*exp((alpha1.-abs(x))./s2)\n",
    "\n",
    "s1_0 = [3.5]\n",
    "s2_0 = [3.5]\n",
    "\n",
    "alpha_pcws1 = alpha[1:idxf]\n",
    "alpha_pcws2 = alpha[idxf:end]\n",
    "\n",
    "f_pcws1 = f[1:idxf]\n",
    "f_pcws2 = f[idxf:end]\n",
    "\n",
    "fit1 = curve_fit(pcws1, alpha_pcws1, f_pcws1, s1_0)\n",
    "fit2 = curve_fit(pcws2, alpha_pcws2, f_pcws2, s2_0)\n",
    "\n",
    "s1 = fit1.param\n",
    "s2 = fit2.param"
   ]
  },
  {
   "cell_type": "code",
   "execution_count": null,
   "metadata": {},
   "outputs": [],
   "source": [
    "annot = string(\"alpha0 = \", string(alpha0)[1:5],\"\\nalpha1 = \", string(alpha1)[1:4], \"\\ns1 = \", string(s1)[2:5], \"\\ns2 = \", string(s2)[2:5])"
   ]
  },
  {
   "cell_type": "code",
   "execution_count": null,
   "metadata": {},
   "outputs": [],
   "source": [
    "plot(alpha,f, label=\"f from xfoil\")\n",
    "plot(alpha_pcws1,pcws1(alpha_pcws1,fit1.param),label = \"model\")\n",
    "plot(alpha_pcws2,pcws2(alpha_pcws2,fit2.param), label = \"model\")\n",
    "legend()\n",
    "#title(foil_no)\n",
    "xlabel(\"angle of attack in deg\")\n",
    "ylabel(\"separation point f, as x/c\")\n",
    "            annotate(annot,\n",
    "            xy=[1;0],\n",
    "            xycoords=\"axes fraction\",\n",
    "            xytext=[-220,10],\n",
    "            textcoords=\"offset points\",\n",
    "            fontsize=15.0,\n",
    "            ha=\"right\",\n",
    "            va=\"bottom\")"
   ]
  }
 ],
 "metadata": {
  "anaconda-cloud": {},
  "kernelspec": {
   "display_name": "Julia 0.5.2",
   "language": "julia",
   "name": "julia-0.5"
  },
  "language_info": {
   "file_extension": ".jl",
   "mimetype": "application/julia",
   "name": "julia",
   "version": "0.5.2"
  }
 },
 "nbformat": 4,
 "nbformat_minor": 1
}
