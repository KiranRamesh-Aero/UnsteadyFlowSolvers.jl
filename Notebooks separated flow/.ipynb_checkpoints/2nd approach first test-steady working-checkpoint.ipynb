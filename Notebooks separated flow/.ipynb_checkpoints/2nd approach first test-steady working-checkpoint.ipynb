{
 "cells": [
  {
   "cell_type": "code",
   "execution_count": 1,
   "metadata": {},
   "outputs": [
    {
     "name": "stderr",
     "output_type": "stream",
     "text": [
      "WARNING: Method definition pcws_1(Any, Any, "
     ]
    }
   ],
   "source": [
    "#Include the UNSflow libraries\n",
    "#Pkg.clone(\"git://github.com/KiranUofG/UNSflow\")\n",
    "include(\"../src/UNSflow.jl\")\n",
    "using UNSflow"
   ]
  },
  {
   "cell_type": "markdown",
   "metadata": {},
   "source": [
    "Case 5 from the new paper\n",
    "#### Table 1\n",
    "|--|--|\n",
    "|:----:|:-------:|\n",
    "|Airfoil|SD-7003|\n",
    "|Motion|Eldredge ramp|\n",
    "|Smoothing parameter a|0.8|\n",
    "|Amplitude|30 deg|\n",
    "|Pivot point| 0.25|\n",
    "|Nondim. pitch rate k|0.03|\n",
    "|Reynolds number| 20k|\n",
    "|LESP| 0.25|"
   ]
  },
  {
   "cell_type": "code",
   "execution_count": 2,
   "metadata": {},
   "outputs": [
    {
     "name": "stderr",
     "output_type": "stream",
     "text": [
      "Any) in module UNSflow at C:\\Users\\pepe\\Documents\\GitHub\\kramesh\\UNSflow\\src\\calculations.jl:3166 overwritten at C:\\Users\\pepe\\Documents\\GitHub\\kramesh\\UNSflow\\src\\calculations.jl:3169.\n",
      "WARNING: Method definition pcws_2(Any, Any, Any)"
     ]
    },
    {
     "data": {
      "text/plain": [
       "1×4 Array{Float64,2}:\n",
       " -0.0704412  -0.011237  0.0739017  1.88094"
      ]
     },
     "execution_count": 2,
     "metadata": {},
     "output_type": "execute_result"
    }
   ],
   "source": [
    "# Insert stating constants\n",
    "\n",
    "    #Static constants from case 6 (notebook \"KLB - static SD7003 test cases\") are used\n",
    "    alpha1, s1, s2, model = 7., 5.,  5., \"Sheng\"\n",
    "    param = [-0.0704412  -0.011237  0.0739017  1.88094]\n",
    "        # 1: k0, 2: k1, 3: k2, 4: m\n",
    "    #Parameters from [2] for NACA 0015: alpha1 = 15.25, s1 = 3.0, s2 = 2.3, k0 = 0, k1 = -0.135, k2 = 0.04, m = 2 \n",
    "    #[2] Z. Liu, J. C. S. Lai, J. Young, and F.-B. Tian, “Discrete Vortex Method with Flow Separation Corrections for Flapping-Foil Power Generators,” AIAA Journal, vol. 55, no. 2, pp. 410–418, Feb. 2017."
   ]
  },
  {
   "cell_type": "code",
   "execution_count": 3,
   "metadata": {},
   "outputs": [
    {
     "name": "stderr",
     "output_type": "stream",
     "text": [
      " in module UNSflow at C:\\Users\\pepe\\Documents\\GitHub\\kramesh\\UNSflow\\src\\calculations.jl:3167 overwritten at C:\\Users\\pepe\\Documents\\GitHub\\kramesh\\UNSflow\\src\\calculations.jl:3170.\n"
     ]
    },
    {
     "data": {
      "text/plain": [
       "1067"
      ]
     },
     "execution_count": 3,
     "metadata": {},
     "output_type": "execute_result"
    }
   ],
   "source": [
    "alphadef = EldUptstartDef(30.*pi/180.,0.03, 0.8, 5.)\n",
    "hdef = ConstDef(0.)\n",
    "udef = ConstDef(1.) #Freestream velocity is a constant. Set as constant = 1\n",
    "\n",
    "#The full kinematics are collected as:\n",
    "full_kinem = KinemDef(alphadef, hdef, udef)\n",
    "\n",
    "pvt = 0.25 #Leading edge\n",
    "lespcrit = [0.17;] #Note that the value is entered as an array. \n",
    "dtstar = find_tstep(alphadef)\n",
    "time_total = 16.\n",
    "nsteps = Int(round(time_total/dtstar))"
   ]
  },
  {
   "cell_type": "code",
   "execution_count": 4,
   "metadata": {},
   "outputs": [
    {
     "ename": "LoadError",
     "evalue": "During the resolution of the non-linear system, the evaluation of the following equation(s) resulted in a non-finite number: [2]",
     "output_type": "error",
     "traceback": [
      "During the resolution of the non-linear system, the evaluation of the following equation(s) resulted in a non-finite number: [2]",
      "",
      " in check_isfinite(::Array{Float64,1}) at C:\\Users\\pepe\\.julia\\v0.5\\NLsolve\\src\\utils.jl:34",
      " in trust_region_(::NLsolve.DifferentiableMultivariateFunction, ::Array{Float64,1}, ::Float64, ::Float64, ::Int64, ::Bool, ::Bool, ::Bool, ::Float64, ::Bool) at C:\\Users\\pepe\\.julia\\v0.5\\NLsolve\\src\\trust_region.jl:91",
      " in #nlsolve#17(::Symbol, ::Float64, ::Float64, ::Int64, ::Bool, ::Bool, ::Bool, ::Function, ::Float64, ::Bool, ::NLsolve.#nlsolve, ::NLsolve.DifferentiableMultivariateFunction, ::Array{Float64,1}) at C:\\Users\\pepe\\.julia\\v0.5\\NLsolve\\src\\nlsolve_func_defs.jl:24",
      " in #ldvm_spv#89(::UNSflow.DelVortDef, ::Array{Float64,2}, ::Float64, ::String, ::Float64, ::Float64, ::Float64, ::Float64, ::String, ::Int64, ::String, ::Float64, ::UNSflow.#ldvm_spv, ::UNSflow.TwoDSurf, ::UNSflow.TwoDFlowField, ::Array{Float64,1}, ::Int64, ::Float64) at C:\\Users\\pepe\\Documents\\GitHub\\kramesh\\UNSflow\\src\\solvers.jl:1205",
      " in (::UNSflow.#kw##ldvm_spv)(::Array{Any,1}, ::UNSflow.#ldvm_spv, ::UNSflow.TwoDSurf, ::UNSflow.TwoDFlowField, ::Array{Float64,1}, ::Int64, ::Float64) at .\\<missing>:0"
     ]
    }
   ],
   "source": [
    "# The argument \"FlatPlate\" provides zero camber. To use an airfoil, specify the coordinate file which should be\n",
    "#in the same folder. For eg. \"sd7003.dat\". \n",
    "#The XFOIL convention must be used for the coordinate: TE->Upper surface->LE->Lower surface->TE\n",
    "surf = TwoDSurf(\"n0012.dat\", pvt, full_kinem,lespcrit)\n",
    "curfield = TwoDFlowField()\n",
    "del = DelVortDef(1, 500, 10)\n",
    "\n",
    "#Now the code is run as :\n",
    "#The variables mat, surf and curfield are returned\n",
    "        \n",
    "mat2d, surf, curfield = ldvm_spv(surf, curfield,param[1,:], nsteps, dtstar; delvort = del, alpha1 = alpha1, S1 = s1, S2 = s2, model=\"Sheng\", aoa = 2, modelF = \"dymore\");\n"
   ]
  },
  {
   "cell_type": "code",
   "execution_count": null,
   "metadata": {
    "collapsed": true
   },
   "outputs": [],
   "source": [
    "# The argument \"FlatPlate\" provides zero camber. To use an airfoil, specify the coordinate file which should be\n",
    "#in the same folder. For eg. \"sd7003.dat\". \n",
    "#The XFOIL convention must be used for the coordinate: TE->Upper surface->LE->Lower surface->TE\n",
    "surf = TwoDSurf(\"sd7003_fine.dat\", pvt, full_kinem,lespcrit)\n",
    "curfield = TwoDFlowField()\n",
    "del = DelVortDef(1, 500, 10)\n",
    "\n",
    "#Now the code is run as :\n",
    "#The variables mat, surf and curfield are returned\n",
    "        \n",
    "matldvm, surf, curfield = ldvm(surf, curfield, nsteps, dtstar; delvort = del);"
   ]
  },
  {
   "cell_type": "code",
   "execution_count": null,
   "metadata": {},
   "outputs": [],
   "source": [
    "plot(mat2d[:,1],mat2d[:,9],label=\"Static f\")\n",
    "plot(mat2d[:,1],mat2d[:,10],label=\"Dynamic f\")\n",
    "\n",
    "#plot(mat2d[:,1],f0sep2, label=\"preview of static f\")\n",
    "xlabel(\"Nondimensional time t*\")\n",
    "ylabel(\"Separation point x/c\")\n",
    "legend()"
   ]
  },
  {
   "cell_type": "code",
   "execution_count": null,
   "metadata": {},
   "outputs": [],
   "source": [
    "plot(mat2d[:,1],mat2d[:,6],label=\"LDVM with TEFSC\")\n",
    "plot(matldvm[:,1],matldvm[:,6],label=\"LDVM\")\n",
    "xlabel(\"Nondimensional time t*\")\n",
    "ylabel(\"Lift coefficient CL\")\n",
    "legend()"
   ]
  },
  {
   "cell_type": "code",
   "execution_count": null,
   "metadata": {},
   "outputs": [],
   "source": [
    "plot(mat2d[:,1],mat2d[:,11],label=\"LDVM with TEFSC\")"
   ]
  },
  {
   "cell_type": "code",
   "execution_count": null,
   "metadata": {},
   "outputs": [],
   "source": [
    "plot(mat2d[:,1],mat2d[:,12],label=\"LDVM with TEFSC\")"
   ]
  },
  {
   "cell_type": "code",
   "execution_count": null,
   "metadata": {},
   "outputs": [],
   "source": [
    "view_vorts(surf,curfield)\n",
    "axis(\"equal\")"
   ]
  },
  {
   "cell_type": "code",
   "execution_count": null,
   "metadata": {
    "collapsed": true
   },
   "outputs": [],
   "source": []
  }
 ],
 "metadata": {
  "kernelspec": {
   "display_name": "Julia 0.5.2",
   "language": "julia",
   "name": "julia-0.5"
  },
  "language_info": {
   "file_extension": ".jl",
   "mimetype": "application/julia",
   "name": "julia",
   "version": "0.5.2"
  }
 },
 "nbformat": 4,
 "nbformat_minor": 2
}
