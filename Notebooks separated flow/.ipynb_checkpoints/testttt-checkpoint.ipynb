{
 "cells": [
  {
   "cell_type": "code",
   "execution_count": null,
   "metadata": {
    "collapsed": true
   },
   "outputs": [],
   "source": [
    "#Include the UNSflow libraries\n",
    "#Pkg.clone(\"git://github.com/KiranUofG/UNSflow\")\n",
    "include(\"../src/UNSflow.jl\")\n",
    "using UNSflow"
   ]
  },
  {
   "cell_type": "markdown",
   "metadata": {},
   "source": [
    "Case 6 from the new paper\n",
    "#### Table 1\n",
    "|--|--|\n",
    "|:----:|:-------:|\n",
    "|Airfoil|SD-7003|\n",
    "|Motion|Eldredge ramp|\n",
    "|Smoothing parameter a|0.8|\n",
    "|Amplitude|30 deg|\n",
    "|Pivot point| 0.25|\n",
    "|Nondim. pitch rate k|0.05|\n",
    "|Reynolds number| 20k|\n",
    "|LESP| 0.25|"
   ]
  },
  {
   "cell_type": "code",
   "execution_count": null,
   "metadata": {
    "collapsed": true
   },
   "outputs": [],
   "source": [
    "# Insert stating constants\n",
    "    # static constants have been obtained iteratively, so as to give the best fsep prediction\n",
    "    # fsep prediction was compared to experiment\n",
    "\n",
    "    #Note how different they are from static constants from 2.3.\n",
    "    #In my opinion the reason for that is low Reynolds number for this case.\n",
    "\n",
    "    sepdef = SeparationParams(5., 5., 5.,\"Sheng\")\n",
    "\n",
    "    alphadef = EldUptstartDef(30.*pi/180.,0.05, 0.8, 5.)\n",
    "    hdef = ConstDef(0.)\n",
    "    udef = ConstDef(1.) #Freestream velocity is a constant. Set as constant = 1\n",
    "\n",
    "    #The full kinematics are collected as:\n",
    "    full_kinem = KinemDef(alphadef, hdef, udef)\n",
    "\n",
    "    pvt = 0.25 #QC\n",
    "    lespcrit = [0.17;] #Note that the value is entered as an array. \n",
    "    dtstar = find_tstep(alphadef)\n",
    "    time_total =16.18\n",
    "    nsteps = Int(round(time_total/dtstar))\n",
    "\n",
    "    #insert data from experiment\n",
    "    t = [2.37, 2.11, 2.52, 1.91, 1.30]\n",
    "    f = [0.54, 0.63, 0.53, 0.67, 0.75];"
   ]
  },
  {
   "cell_type": "code",
   "execution_count": null,
   "metadata": {},
   "outputs": [],
   "source": [
    "nsteps"
   ]
  },
  {
   "cell_type": "code",
   "execution_count": null,
   "metadata": {
    "collapsed": true
   },
   "outputs": [],
   "source": [
    "# The argument \"FlatPlate\" provides zero camber. To use an airfoil, specify the coordinate file which should be\n",
    "#in the same folder. For eg. \"sd7003.dat\". \n",
    "#The XFOIL convention must be used for the coordinate: TE->Upper surface->LE->Lower surface->TE\n",
    "surf = TwoDSurf(\"sd7003_fine.dat\", pvt, full_kinem,lespcrit)\n",
    "curfield = TwoDFlowField()\n",
    "\n",
    "#Now the code is run as :\n",
    "#The variables mat, surf and curfield are returned\n",
    "        \n",
    "@time mat, surf, curfield = ldvm_klb_tr(surf, curfield,sepdef, nsteps, dtstar);\n"
   ]
  },
  {
   "cell_type": "code",
   "execution_count": null,
   "metadata": {},
   "outputs": [],
   "source": [
    "plot(t+5,f, label=\"Experimental data\")\n",
    "#plot(mat2d[:,1],mat2d[:,9],label=\"Static f\")\n",
    "plot(mat[:,1],mat[:,10],label=\"Dynamic f\")\n",
    "\n",
    "xlabel(\"Nondimensional time t*\")\n",
    "ylabel(\"Separation point x/c\")\n",
    "legend()"
   ]
  },
  {
   "cell_type": "markdown",
   "metadata": {},
   "source": [
    "Fit is acceptable. For $t^*<7.5$ separation point location is overpredicted, but this does not make a huge difference."
   ]
  },
  {
   "cell_type": "code",
   "execution_count": null,
   "metadata": {
    "collapsed": true
   },
   "outputs": [],
   "source": [
    "data = readdlm(\"comp_sa_lesp6_m.dat\");"
   ]
  },
  {
   "cell_type": "code",
   "execution_count": null,
   "metadata": {},
   "outputs": [],
   "source": [
    "plot(mat[:,1],mat[:,2]*180/pi,label=\"LDVM_KLB_TR\")\n",
    "plot(data[:,1]+4,data[:,2], label= \"CFD\")\n",
    "xlabel(\"Nondimensional time t*\")\n",
    "ylabel(\"Angle of attack in deg\")\n",
    "legend()"
   ]
  },
  {
   "cell_type": "markdown",
   "metadata": {},
   "source": [
    "Data from CFD and LDVM_KLB_TR is synchronized."
   ]
  },
  {
   "cell_type": "code",
   "execution_count": null,
   "metadata": {},
   "outputs": [],
   "source": [
    "# The argument \"FlatPlate\" provides zero camber. To use an airfoil, specify the coordinate file which should be\n",
    "#in the same folder. For eg. \"sd7003.dat\". \n",
    "#The XFOIL convention must be used for the coordinate: TE->Upper surface->LE->Lower surface->TE\n",
    "surf = TwoDSurf(\"sd7003_fine.dat\", pvt, full_kinem,lespcrit)\n",
    "curfield = TwoDFlowField()\n",
    "\n",
    "#Now the code is run as :\n",
    "#The variables mat, surf and curfield are returned\n",
    "        \n",
    "@time matldvm, surf, curfield = ldvm(surf, curfield, nsteps, dtstar);"
   ]
  },
  {
   "cell_type": "code",
   "execution_count": null,
   "metadata": {
    "collapsed": true
   },
   "outputs": [],
   "source": [
    "rmsL_1 = rms(data[:,1]+4,data[:,5],mat[:,1],mat[:,6])\n",
    "rmsD_1 = rms(data[:,1]+4,data[:,6],mat[:,1],mat[:,7])\n",
    "rmsM_1 = rms(data[:,1]+4,data[:,7],mat[:,1],mat[:,8])"
   ]
  },
  {
   "cell_type": "code",
   "execution_count": null,
   "metadata": {},
   "outputs": [],
   "source": [
    "plot(matldvm[:,1],matldvm[:,6],label=\"LDVM\")\n",
    "plot(mat[:,1],mat[:,6],label=\"LDVM_KLB_TR\")\n",
    "plot(data[:,1]+4,data[:,5], label=\"CFD\")\n",
    "xlabel(\"Nondimensional time t*\")\n",
    "ylabel(\"Lift coefficient CL\")\n",
    "legend()\n",
    "figure()\n",
    "plot(matldvm[:,1],matldvm[:,7],label=\"LDVM\")\n",
    "plot(mat[:,1],mat[:,7],label=\"LDVM_KLB_TR\")\n",
    "plot(data[:,1]+4,data[:,6], label=\"CFD\")\n",
    "xlabel(\"Nondimensional time t*\")\n",
    "ylabel(\"Drag coefficient CD\")\n",
    "legend()\n",
    "figure()\n",
    "plot(matldvm[:,1],matldvm[:,8],label=\"LDVM\")\n",
    "plot(mat[:,1],mat[:,8],label=\"LDVM_KLB_TR\")\n",
    "plot(data[:,1]+4,-data[:,7], label=\"CFD\")\n",
    "xlabel(\"Nondimensional time t*\")\n",
    "ylabel(\"Moment coefficient CM\")\n",
    "legend()"
   ]
  },
  {
   "cell_type": "code",
   "execution_count": null,
   "metadata": {},
   "outputs": [],
   "source": [
    "# Insert stating constants\n",
    "    # static constants have been obtained iteratively, so as to give the best fsep prediction\n",
    "    # fsep prediction was compared to experiment\n",
    "\n",
    "    #Note how different they are from static constants from 2.3.\n",
    "    #In my opinion the reason for that is low Reynolds number for this case.\n",
    "\n",
    "    sepdef = SeparationParams(8.9, 5., 5.,\"Sheng\",cs_model=\"continuous\")\n",
    "\n",
    "    alphadef = EldUptstartDef(30.*pi/180.,0.03, 0.8, 5.)\n",
    "    hdef = ConstDef(0.)\n",
    "    udef = ConstDef(1.) #Freestream velocity is a constant. Set as constant = 1\n",
    "\n",
    "    #The full kinematics are collected as:\n",
    "    full_kinem = KinemDef(alphadef, hdef, udef)\n",
    "\n",
    "    pvt = 0.25 #QC\n",
    "    lespcrit = [0.17;] #Note that the value is entered as an array. \n",
    "    dtstar = find_tstep(alphadef)\n",
    "    time_total =16.319+4.\n",
    "    nsteps = Int(round(time_total/dtstar))\n",
    "\n",
    "# The argument \"FlatPlate\" provides zero camber. To use an airfoil, specify the coordinate file which should be\n",
    "#in the same folder. For eg. \"sd7003.dat\". \n",
    "#The XFOIL convention must be used for the coordinate: TE->Upper surface->LE->Lower surface->TE\n",
    "surf = TwoDSurf(\"sd7003_fine.dat\", pvt, full_kinem,lespcrit)\n",
    "curfield = TwoDFlowField()\n",
    "\n",
    "#Now the code is run as :\n",
    "#The variables mat, surf and curfield are returned\n",
    "        \n",
    "@time mat, surf, curfield = ldvm_klb_tr(surf, curfield,sepdef, nsteps, dtstar);\n"
   ]
  },
  {
   "cell_type": "code",
   "execution_count": null,
   "metadata": {},
   "outputs": [],
   "source": [
    "rmsL_2 = rms(data[:,1]+4,data[:,5],mat[:,1],mat[:,6])\n",
    "rmsD_2 = rms(data[:,1]+4,data[:,6],mat[:,1],mat[:,7])\n",
    "rmsM_2 = rms(data[:,1]+4,data[:,7],mat[:,1],mat[:,8])\n",
    "\n",
    "rmsL_ldvm = rms(data[:,1]+4,data[:,5],matldvm[:,1],matldvm[:,6])\n",
    "rmsD_ldvm = rms(data[:,1]+4,data[:,6],matldvm[:,1],matldvm[:,7])\n",
    "rmsM_ldvm = rms(data[:,1]+4,data[:,7],matldvm[:,1],matldvm[:,8])"
   ]
  },
  {
   "cell_type": "code",
   "execution_count": null,
   "metadata": {},
   "outputs": [],
   "source": [
    "plot(matldvm[:,1],matldvm[:,6],label=\"LDVM\")\n",
    "plot(mat[:,1],mat[:,6],label=\"LDVM_KLB_TR\")\n",
    "plot(data[:,1]+4,data[:,5], label=\"CFD\")\n",
    "xlabel(\"Nondimensional time t*\")\n",
    "ylabel(\"Lift coefficient CL\")\n",
    "legend()\n",
    "figure()\n",
    "plot(matldvm[:,1],matldvm[:,7],label=\"LDVM\")\n",
    "plot(mat[:,1],mat[:,7],label=\"LDVM_KLB_TR\")\n",
    "plot(data[:,1]+4,data[:,6], label=\"CFD\")\n",
    "xlabel(\"Nondimensional time t*\")\n",
    "ylabel(\"Drag coefficient CD\")\n",
    "legend()\n",
    "figure()\n",
    "plot(matldvm[:,1],matldvm[:,8],label=\"LDVM\")\n",
    "plot(mat[:,1],mat[:,8],label=\"LDVM_KLB_TR\")\n",
    "plot(data[:,1]+4,-data[:,7], label=\"CFD\")\n",
    "xlabel(\"Nondimensional time t*\")\n",
    "ylabel(\"Moment coefficient CM\")\n",
    "legend()"
   ]
  },
  {
   "cell_type": "code",
   "execution_count": null,
   "metadata": {
    "collapsed": true
   },
   "outputs": [],
   "source": [
    "[rmsL_1 rmsL_2 rmsL_ldvm]"
   ]
  },
  {
   "cell_type": "code",
   "execution_count": null,
   "metadata": {
    "collapsed": true
   },
   "outputs": [],
   "source": [
    "[rmsD_1 rmsD_2 rmsD_ldvm]"
   ]
  },
  {
   "cell_type": "code",
   "execution_count": null,
   "metadata": {
    "collapsed": true
   },
   "outputs": [],
   "source": [
    "[rmsM_1 rmsM_2 rmsM_ldvm]"
   ]
  },
  {
   "cell_type": "code",
   "execution_count": null,
   "metadata": {
    "collapsed": true
   },
   "outputs": [],
   "source": []
  }
 ],
 "metadata": {
  "kernelspec": {
   "display_name": "Julia 0.5.2",
   "language": "julia",
   "name": "julia-0.5"
  },
  "language_info": {
   "file_extension": ".jl",
   "mimetype": "application/julia",
   "name": "julia",
   "version": "0.5.2"
  }
 },
 "nbformat": 4,
 "nbformat_minor": 2
}
