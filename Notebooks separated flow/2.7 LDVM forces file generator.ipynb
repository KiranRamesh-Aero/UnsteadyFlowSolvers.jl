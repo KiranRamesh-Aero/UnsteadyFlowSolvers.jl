{
 "cells": [
  {
   "cell_type": "code",
   "execution_count": 1,
   "metadata": {
    "collapsed": true
   },
   "outputs": [],
   "source": [
    "#Include the UNSflow libraries\n",
    "#Pkg.clone(\"git://github.com/KiranUofG/UNSflow\")\n",
    "include(\"../src/UNSflow.jl\")\n",
    "using UNSflow"
   ]
  },
  {
   "cell_type": "markdown",
   "metadata": {},
   "source": [
    "This notebook is used to generate \"nosep_case\" files for .m script used to analyze data from CFD."
   ]
  },
  {
   "cell_type": "code",
   "execution_count": 3,
   "metadata": {},
   "outputs": [
    {
     "data": {
      "text/plain": [
       "786"
      ]
     },
     "execution_count": 3,
     "metadata": {},
     "output_type": "execute_result"
    }
   ],
   "source": [
    "    alphadef = EldUptstartDef(30.*pi/180.,0.2, 0.8, 5.)\n",
    "    hdef = ConstDef(0.)\n",
    "    udef = ConstDef(1.) #Freestream velocity is a constant. Set as constant = 1\n",
    "\n",
    "    #The full kinematics are collected as:\n",
    "    full_kinem = KinemDef(alphadef, hdef, udef)\n",
    "\n",
    "    pvt = 0.25 #QC\n",
    "    lespcrit = [0.17;] #Note that the value is entered as an array. \n",
    "    dtstar = 0.0003*50/0.58;\n",
    "    time_total = 16.319+4.\n",
    "    nsteps = Int(round(time_total/dtstar))\n"
   ]
  },
  {
   "cell_type": "code",
   "execution_count": 4,
   "metadata": {},
   "outputs": [
    {
     "name": "stdout",
     "output_type": "stream",
     "text": [
      "151.480185 seconds (6.86 M allocations: 490.139 MB, 0.43% gc time)\n"
     ]
    }
   ],
   "source": [
    "# The argument \"FlatPlate\" provides zero camber. To use an airfoil, specify the coordinate file which should be\n",
    "#in the same folder. For eg. \"sd7003.dat\". \n",
    "#The XFOIL convention must be used for the coordinate: TE->Upper surface->LE->Lower surface->TE\n",
    "surf = TwoDSurf(\"sd7003_fine.dat\", pvt, full_kinem,lespcrit)\n",
    "curfield = TwoDFlowField()\n",
    "del = DelVortDef(1, 500, 10)\n",
    "\n",
    "#Now the code is run as :\n",
    "#The variables mat, surf and curfield are returned\n",
    "        \n",
    "@time matldvm, surf, curfield = ldvm(surf, curfield, nsteps, dtstar; delvort = del);"
   ]
  },
  {
   "cell_type": "code",
   "execution_count": 5,
   "metadata": {
    "collapsed": true
   },
   "outputs": [],
   "source": [
    "matldvm[:,2]=matldvm[:,2].*180./pi;"
   ]
  },
  {
   "cell_type": "code",
   "execution_count": 6,
   "metadata": {
    "collapsed": true
   },
   "outputs": [],
   "source": [
    "writedlm(\"nosep_case1_m.dat\", matldvm)"
   ]
  }
 ],
 "metadata": {
  "kernelspec": {
   "display_name": "Julia 0.5.2",
   "language": "julia",
   "name": "julia-0.5"
  },
  "language_info": {
   "file_extension": ".jl",
   "mimetype": "application/julia",
   "name": "julia",
   "version": "0.5.2"
  }
 },
 "nbformat": 4,
 "nbformat_minor": 2
}
